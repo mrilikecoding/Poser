{
 "cells": [
  {
   "cell_type": "code",
   "execution_count": 54,
   "metadata": {},
   "outputs": [],
   "source": [
    "import os\n",
    "import json\n",
    "import cv2"
   ]
  },
  {
   "cell_type": "code",
   "execution_count": 58,
   "metadata": {},
   "outputs": [
    {
     "name": "stdout",
     "output_type": "stream",
     "text": [
      "../../data/keypoints/run-preproccessed-1697924524790004000/IKF_8.27_230pm_BW_Front2_P10-1697925482541409000\n"
     ]
    }
   ],
   "source": [
    "# video = \"IKF_8.27_230pm_BW_Front_P11.webm\" # Good\n",
    "video = \"IKF_8.27_230pm_BW_Front2_P10.webm\" # Bad\n",
    "keypoints_directory = \"../../data/keypoints\"\n",
    "videos_directory = \"../../data/source_videos\"\n",
    "# keypoints_data_dir = f\"{keypoints_directory}/run-preproccessed-1697924524790004000/IKF_8.27_230pm_BW_Front_P11-1697925384052075000\" # Good\n",
    "keypoints_data_dir = f\"{keypoints_directory}/run-preproccessed-1697924524790004000/IKF_8.27_230pm_BW_Front2_P10-1697925482541409000\" # Bad\n",
    "print(keypoints_data_dir)\n",
    "keypoints_video = f\"{videos_directory}/{video}\""
   ]
  },
  {
   "cell_type": "code",
   "execution_count": 59,
   "metadata": {},
   "outputs": [],
   "source": [
    "video_keypoint_data = []\n",
    "for f in sorted(os.listdir(keypoints_data_dir)):\n",
    "    with open(f\"{keypoints_data_dir}/{f}\", 'r') as keypoints_json:\n",
    "       video_keypoint_data.append(json.load(keypoints_json))"
   ]
  },
  {
   "cell_type": "code",
   "execution_count": 60,
   "metadata": {},
   "outputs": [
    {
     "name": "stdout",
     "output_type": "stream",
     "text": [
      "['nose', 'left_eye_inner', 'left_eye', 'left_eye_outer', 'right_eye_inner', 'right_eye', 'right_eye_outer', 'left_ear', 'right_ear', 'mouth_left', 'mouth_right', 'left_shoulder', 'right_shoulder', 'left_elbow', 'right_elbow', 'left_wrist', 'right_wrist', 'left_pinky', 'right_pinky', 'left_index', 'right_index', 'left_thumb', 'right_thumb', 'left_hip', 'right_hip', 'left_knee', 'right_knee', 'left_ankle', 'right_ankle', 'left_heel', 'right_heel', 'left_foot_index', 'right_foot_index']\n"
     ]
    }
   ],
   "source": [
    "keypoints = [k for k in video_keypoint_data[0]['joint_positions'].keys()]\n",
    "print(keypoints)"
   ]
  },
  {
   "cell_type": "code",
   "execution_count": 63,
   "metadata": {},
   "outputs": [],
   "source": [
    "keypoints = [k for k in video_keypoint_data[0]['joint_positions'].keys()]\n",
    "cap = cv2.VideoCapture(f\"{videos_directory}/{video}\")\n",
    "frame_width = int(cap.get(3))\n",
    "frame_height = int(cap.get(4))\n",
    "frame_size = (frame_width,frame_height)\n",
    "fps = 20\n",
    "\n",
    "cv2.startWindowThread()\n",
    "frame = 0\n",
    "skel = [\n",
    "    ('nose', 'left_eye'),\n",
    "    ('nose', 'right_eye'),\n",
    "    ('nose', 'left_shoulder'),\n",
    "    ('nose', 'right_shoulder'),\n",
    "    ('left_shoulder', 'right_shoulder'),\n",
    "    ('left_shoulder', 'left_elbow'),\n",
    "    ('left_shoulder', 'left_hip'),\n",
    "    ('left_elbow', 'left_wrist'),\n",
    "    ('right_elbow', 'right_wrist'),\n",
    "    ['left_wrist', 'left_pinky'],\n",
    "    ['right_wrist', 'right_pinky'],\n",
    "    ('right_shoulder', 'right_elbow'),\n",
    "    ('right_shoulder', 'right_hip'),\n",
    "    ('right_hip', 'left_hip'),\n",
    "    ('right_hip', 'right_knee'),\n",
    "    ('left_hip', 'left_knee'),\n",
    "    ('left_heel', 'left_knee'),\n",
    "    ('left_heel', 'left_foot_index'),\n",
    "    ('right_heel', 'right_knee'),\n",
    "    ('right_heel', 'right_foot_index'),\n",
    "]\n",
    "output = cv2.VideoWriter('../../data/sample.mov',  \n",
    "                         cv2.VideoWriter_fourcc(*'mp4v'), \n",
    "                         10, (1080, 720)) \n",
    "while cap.isOpened():\n",
    "    ret, image = cap.read()\n",
    "    h, w, _ = image.shape\n",
    "\n",
    "    keypoint_data = video_keypoint_data[frame]\n",
    "    for k in keypoints:\n",
    "        keypoint_data = video_keypoint_data[frame]['joint_positions'][k]\n",
    "        for s in skel:\n",
    "            a = video_keypoint_data[frame]['joint_positions'][s[0]]\n",
    "            b = video_keypoint_data[frame]['joint_positions'][s[1]]\n",
    "            xa = int(a['x'] * w)\n",
    "            xb = int(b['x'] * w)\n",
    "            ya = int(a['y'] * h)\n",
    "            yb = int(b['y'] * h)\n",
    "            cv2.line(image,(xa, ya), (xb,yb), (0 ,255 ,0), 2)\n",
    "\n",
    "\n",
    "    output.write(image)\n",
    "    cv2.imshow('frame', image) \n",
    "    cv2.waitKey(1)\n",
    "    \n",
    "    frame += 1\n",
    "    if not ret or frame >= len(video_keypoint_data):\n",
    "        output.release()\n",
    "        cap.release()\n",
    "        cv2.destroyAllWindows()\n",
    "        cv2.waitKey(1)\n",
    "        break\n",
    "\n"
   ]
  }
 ],
 "metadata": {
  "kernelspec": {
   "display_name": "poser",
   "language": "python",
   "name": "python3"
  },
  "language_info": {
   "codemirror_mode": {
    "name": "ipython",
    "version": 3
   },
   "file_extension": ".py",
   "mimetype": "text/x-python",
   "name": "python",
   "nbconvert_exporter": "python",
   "pygments_lexer": "ipython3",
   "version": "3.10.12"
  }
 },
 "nbformat": 4,
 "nbformat_minor": 2
}
